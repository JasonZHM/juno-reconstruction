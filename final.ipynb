{
 "cells": [
  {
   "cell_type": "markdown",
   "source": [
    "# final.ipynb: 通过已经训练的决策树，最终解题\n",
    "前提：跑完`train.ipynb`，最好跑完`waveform.py`。如果跑的是`model.ipynb`，请将model的文件名相应加一个play。"
   ],
   "metadata": {}
  },
  {
   "cell_type": "code",
   "execution_count": 6,
   "metadata": {},
   "outputs": [],
   "source": [
    "import multiprocessing\n",
    "import warnings\n",
    "import multiprocessing\n",
    "import numpy as np\n",
    "import matplotlib.pyplot as plt\n",
    "%matplotlib inline\n",
    "import h5py\n",
    "from utils import loadData, saveData, getNum, getPePerWF, saveans, lossfunc_eval, lossfunc_train\n",
    "import lightgbm as lgb\n",
    "from tqdm import tqdm"
   ],
   "outputs": [],
   "metadata": {}
  },
  {
   "cell_type": "markdown",
   "source": [
    "读取测试集"
   ],
   "metadata": {}
  },
  {
   "cell_type": "code",
   "execution_count": 2,
   "source": [
    "testpath = \"data/final.h5\"\n",
    "testWF = loadData(testpath, 'test')"
   ],
   "outputs": [
    {
     "output_type": "stream",
     "name": "stdout",
     "text": [
      "Structure of data:\n",
      "<HDF5 dataset \"Waveform\": shape (12178193,), type \"|V2008\"> Waveform /Waveform\n"
     ]
    }
   ],
   "metadata": {}
  },
  {
   "cell_type": "markdown",
   "source": [
    "如果已经跑完了`waveform.py`，跑上面的代码块；如果没有，跑下面的代码块。\n",
    "\n",
    "总之，得到第一个决策树需要的那些参数，并为第二个决策树做准备。"
   ],
   "metadata": {}
  },
  {
   "cell_type": "code",
   "execution_count": 3,
   "source": [
    "with h5py.File('./train/final_wf.h5', 'r') as ipt:\n",
    "    intTestWF = ipt['Waveform']['intWF'][...]\n",
    "    pointsPerTestWF = ipt['Waveform']['pointsPerWF'][...]\n",
    "    pePerTestWFCalc = ipt['Waveform']['pePerWFCalc'][...]\n",
    "    meanPeTimePerTestWF = ipt['Waveform']['meanPeTimePerWF'][...]\n",
    "    wfIndices = ipt['WfIndices'][...]"
   ],
   "outputs": [],
   "metadata": {}
  },
  {
   "cell_type": "code",
   "execution_count": 3,
   "metadata": {},
   "outputs": [],
   "source": [
    "numPEW, wfIndices = getNum(testWF)"
   ]
  },
  {
   "cell_type": "code",
   "execution_count": 9,
   "metadata": {},
   "outputs": [
    {
     "name": "stderr",
     "output_type": "stream",
     "text": [
      "\r",
      "  0%|          | 0/7 [00:00<?, ?it/s]"
     ]
    },
    {
     "name": "stdout",
     "output_type": "stream",
     "text": [
      "正在去除波形噪音...\n"
     ]
    },
    {
     "name": "stderr",
     "output_type": "stream",
     "text": [
      "100%|██████████| 7/7 [00:55<00:00,  7.99s/it]\n"
     ]
    },
    {
     "name": "stdout",
     "output_type": "stream",
     "text": [
      "正在做波形积分...\n",
      "正在计算超出阈值的点数...\n"
     ]
    },
    {
     "name": "stderr",
     "output_type": "stream",
     "text": [
      "100%|██████████| 12178193/12178193 [33:26<00:00, 6068.65it/s]\n"
     ]
    }
   ],
   "source": [
    "    print(\"正在去除波形噪音...\")\n",
    "    denoisedTestWF = np.empty((testWF.shape[0], 1000), dtype='<i2')\n",
    "    step = 2000000\n",
    "    for i in tqdm(range(testWF.shape[0] // step + 1)):\n",
    "        denoisedTestWF[step*i:step*(i+1)] = np.where(\n",
    "            testWF['Waveform'][step*i:step*(i+1), :] < 918,\n",
    "            918-testWF['Waveform'][step*i:step*(i+1), :],\n",
    "            0\n",
    "        )\n",
    "    print(\"正在做波形积分...\")\n",
    "    intTestWF = np.sum(denoisedTestWF, axis=1)\n",
    "    print(\"正在计算超出阈值的点数...\")\n",
    "    pointsPerTestWF = np.sum(denoisedTestWF > 0, axis=1)\n",
    "    with warnings.catch_warnings():\n",
    "        warnings.simplefilter(\"ignore\")\n",
    "        with multiprocessing.Pool(8) as p:\n",
    "            res = np.array(\n",
    "                list(\n",
    "                    tqdm(\n",
    "                        p.imap(\n",
    "                            getPePerWF,\n",
    "                            denoisedTestWF\n",
    "                        ),\n",
    "                        total=denoisedTestWF.shape[0]\n",
    "                    )\n",
    "                )\n",
    "            )\n",
    "\n",
    "    pePerTestWFCalc = res[:, 0]\n",
    "    meanPeTimePerTestWF = res[:, 1]\n"
   ]
  },
  {
   "cell_type": "markdown",
   "source": [
    "使用第一个决策树，预测每个波形的PE数`pePerWF`，按照上面一个代码块\n",
    "\n",
    "或者使用线性拟合，按照下面一个代码块"
   ],
   "metadata": {}
  },
  {
   "cell_type": "code",
   "execution_count": 4,
   "source": [
    "gbmForPePerWF = lgb.Booster(model_file='./model/modelPePerWF.txt')\n",
    "pePerWF = gbmForPePerWF.predict(\n",
    "    np.stack(\n",
    "        (intTestWF, pointsPerTestWF, pePerTestWFCalc),\n",
    "        axis=1\n",
    "    )\n",
    ")"
   ],
   "outputs": [],
   "metadata": {}
  },
  {
   "cell_type": "code",
   "execution_count": 10,
   "source": [
    "pePerWF = np.round(intTestWF * 0.00651683 + 0.5644330147776138).astype(int)"
   ],
   "outputs": [],
   "metadata": {}
  },
  {
   "cell_type": "code",
   "execution_count": 10,
   "metadata": {},
   "outputs": [],
   "source": [
    "pePerWF = pePerTestWFCalc"
   ],
   "outputs": [],
   "metadata": {}
  },
  {
   "cell_type": "markdown",
   "source": [
    "运算得到第二个决策树所需要的五个feature"
   ],
   "metadata": {}
  },
  {
   "cell_type": "code",
   "execution_count": 11,
   "metadata": {},
   "outputs": [
    {
     "name": "stderr",
     "output_type": "stream",
     "text": [
      "100%|██████████| 4000/4000 [00:00<00:00, 13670.49it/s]\n",
      "100%|██████████| 4000/4000 [00:00<00:00, 5510.65it/s]\n"
     ]
    }
   ],
   "source": [
    "splitPePerTestWFFinal = np.split(pePerWF, wfIndices[1:-1])\n",
    "\n",
    "peTotal = np.empty(4000)\n",
    "peMean = np.empty(4000)\n",
    "peStd = np.empty(4000)\n",
    "for index, pePerTestWFFinalChunk in enumerate(tqdm(splitPePerTestWFFinal)):\n",
    "    peTotal[index] = np.sum(pePerTestWFFinalChunk)\n",
    "    peMean[index] = np.mean(pePerTestWFFinalChunk)\n",
    "    peStd[index] = np.std(pePerTestWFFinalChunk)\n",
    "\n",
    "splitMeanPeTimePerTestWF = np.split(meanPeTimePerTestWF, wfIndices[1:-1])\n",
    "peTimeMean = np.empty(4000)\n",
    "peTimeStd = np.empty(4000)\n",
    "for index, meanPeTimePerTestWFFinalChunk in enumerate(tqdm(splitMeanPeTimePerTestWF)):\n",
    "    peTimeMean[index] = np.nanmean(meanPeTimePerTestWFFinalChunk)\n",
    "    peTimeStd[index] = np.nanstd(meanPeTimePerTestWFFinalChunk)\n"
   ],
   "outputs": [
    {
     "output_type": "stream",
     "name": "stderr",
     "text": [
      "100%|██████████| 4000/4000 [00:00<00:00, 12073.58it/s]\n",
      "100%|██████████| 4000/4000 [00:00<00:00, 5236.77it/s]\n"
     ]
    }
   ],
   "metadata": {}
  },
  {
   "cell_type": "markdown",
   "source": [
    "喂进第二个决策树，得到最终答案动量p"
   ],
   "metadata": {}
  },
  {
   "cell_type": "code",
   "execution_count": 12,
   "metadata": {},
   "outputs": [],
   "source": [
    "gbmForP = lgb.Booster(model_file='./model/modelPPlay.txt')\n",
    "answerP = gbmForP.predict(\n",
    "    np.stack(\n",
    "        (peTotal, peMean, peStd, peTimeMean, peTimeStd),\n",
    "        axis=1\n",
    "    )\n",
    ")"
   ],
   "outputs": [],
   "metadata": {}
  },
  {
   "cell_type": "markdown",
   "source": [
    "将答案存为标准格式，完成！"
   ],
   "metadata": {}
  },
  {
   "cell_type": "code",
   "execution_count": 13,
   "metadata": {},
   "outputs": [],
   "source": [
    "saveans(answerP, './ans/ansPlay2.h5')"
   ],
   "outputs": [],
   "metadata": {}
  },
  {
   "cell_type": "code",
   "execution_count": null,
   "source": [],
   "outputs": [],
   "metadata": {}
  }
 ],
 "metadata": {
  "interpreter": {
   "hash": "ec5fd5d2daa8cf271abe6a38e15ead5ddfebe80b58f16c5ecb86ccca2e10ec6b"
  },
  "kernelspec": {
   "display_name": "Python 3",
   "language": "python",
   "name": "python3"
  },
  "language_info": {
   "codemirror_mode": {
    "name": "ipython",
    "version": 3
   },
   "file_extension": ".py",
   "mimetype": "text/x-python",
   "name": "python",
   "nbconvert_exporter": "python",
   "pygments_lexer": "ipython3",
   "version": "3.8.5"
  }
 },
 "nbformat": 4,
 "nbformat_minor": 2
}
