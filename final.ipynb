{
 "cells": [
  {
   "cell_type": "code",
   "execution_count": 1,
   "metadata": {},
   "outputs": [],
   "source": [
    "import numpy as np\n",
    "import matplotlib.pyplot as plt\n",
    "%matplotlib inline\n",
    "import torch\n",
    "from sklearn import preprocessing\n",
    "from sklearn import ensemble\n",
    "from utils import loadData, saveData, getNum, getPePerWF, saveans, lossfunc_eval, lossfunc_train\n",
    "import lightgbm as lgb\n",
    "from tqdm import tqdm"
   ]
  },
  {
   "cell_type": "code",
   "execution_count": 2,
   "metadata": {},
   "outputs": [],
   "source": [
    "testpath = \"data/final.h5\"\n",
    "thres = 300"
   ]
  },
  {
   "cell_type": "code",
   "execution_count": 3,
   "metadata": {},
   "outputs": [
    {
     "name": "stdout",
     "output_type": "stream",
     "text": [
      "start processing testset\n",
      "Structure of data:\n",
      "<HDF5 dataset \"Waveform\": shape (12178193,), type \"|V2008\"> Waveform /Waveform\n",
      "testset loaded\n"
     ]
    }
   ],
   "source": [
    "print('start processing testset')\n",
    "testWF = loadData(testpath, 'test')\n",
    "print('testset loaded')"
   ]
  },
  {
   "cell_type": "code",
   "execution_count": 4,
   "metadata": {},
   "outputs": [],
   "source": [
    "numPEW, wfIndices = getNum(testWF)"
   ]
  },
  {
   "cell_type": "code",
   "execution_count": 5,
   "metadata": {},
   "outputs": [
    {
     "name": "stderr",
     "output_type": "stream",
     "text": [
      "100%|██████████| 12178193/12178193 [39:49<00:00, 5095.88it/s] \n"
     ]
    }
   ],
   "source": [
    "pePerTestWF = np.array([])\n",
    "splitWFChannels = np.split(testWF['ChannelID'], wfIndices[1:-1])\n",
    "denoisedTestWF = np.where(testWF['Waveform'] < 918, 918-testWF['Waveform'], 0)\n",
    "intTestWF = np.sum(denoisedTestWF, axis=1)\n",
    "pointsPerTestWF = np.sum(denoisedTestWF > 0, axis=1)\n",
    "pePerTestWFCalc = np.empty(denoisedTestWF.shape[0])\n",
    "for index, waveform in enumerate(tqdm(denoisedTestWF)):\n",
    "    wfArgmax = getPePerWF(denoisedTestWF[index], pointsPerTestWF[index])\n",
    "    pePerTestWFCalc[index] = wfArgmax.shape[0]"
   ]
  },
  {
   "cell_type": "code",
   "execution_count": 6,
   "metadata": {},
   "outputs": [],
   "source": [
    "gbmForPePerWF = lgb.Booster(model_file='./modelPePerWF.txt')\n",
    "pePerWF = gbmForPePerWF.predict(\n",
    "    np.stack(\n",
    "        (intTestWF, pointsPerTestWF, pePerTestWFCalc),\n",
    "        axis=1\n",
    "    )\n",
    ")"
   ]
  },
  {
   "cell_type": "code",
   "execution_count": 7,
   "metadata": {},
   "outputs": [
    {
     "name": "stderr",
     "output_type": "stream",
     "text": [
      "100%|██████████| 4000/4000 [00:00<00:00, 12011.62it/s]\n"
     ]
    }
   ],
   "source": [
    "splitPePerTrainWFFinal = np.split(pePerWF, wfIndices[1:-1])\n",
    "peTotal = np.empty(4000)\n",
    "peMean = np.empty(4000)\n",
    "peStd = np.empty(4000)\n",
    "for index, pePerTrainWFFinalChunk in enumerate(tqdm(splitPePerTrainWFFinal)):\n",
    "    peTotal[index] = np.sum(pePerTrainWFFinalChunk)\n",
    "    peMean[index] = np.mean(pePerTrainWFFinalChunk)\n",
    "    peStd[index] = np.std(pePerTrainWFFinalChunk)"
   ]
  },
  {
   "cell_type": "code",
   "execution_count": 8,
   "metadata": {},
   "outputs": [],
   "source": [
    "gbmForP = lgb.Booster(model_file='./modelP.txt')\n",
    "answerP = gbmForP.predict(\n",
    "    np.stack(\n",
    "        (peTotal, peMean, peStd),\n",
    "        axis=1\n",
    "    )\n",
    ")"
   ]
  },
  {
   "cell_type": "code",
   "execution_count": 10,
   "metadata": {},
   "outputs": [],
   "source": [
    "saveans(answerP, './ans/ans1.h5')"
   ]
  },
  {
   "cell_type": "code",
   "execution_count": 5,
   "metadata": {},
   "outputs": [
    {
     "name": "stderr",
     "output_type": "stream",
     "text": [
      "100%|██████████| 4000/4000 [09:19<00:00,  7.15it/s]"
     ]
    },
    {
     "name": "stdout",
     "output_type": "stream",
     "text": [
      "testset shape:  (4000, 3)\n"
     ]
    },
    {
     "name": "stderr",
     "output_type": "stream",
     "text": [
      "\n"
     ]
    }
   ],
   "source": [
    "w_test, j_test = np.unique(testWF['EventID'], return_index=True)\n",
    "j_test = np.append(j_test, len(testWF))\n",
    "numPEWtest = np.diff(j_test)\n",
    "invTestWF = 1000-testWF['Waveform']\n",
    "\n",
    "intWFtest = np.array([])\n",
    "intWFdRtest = np.array([])\n",
    "numFilteredTest = np.array([])\n",
    "for arr in tqdm(np.split(invTestWF, j_test[1:-1])):\n",
    "\n",
    "    # arr = wavelet_denoising(arr)\n",
    "\n",
    "    head = np.mean(arr[:, :100], axis=1)\n",
    "    tail = np.mean(arr[:, -100:], axis=1)\n",
    "    base = np.minimum(head, tail)\n",
    "    intpWF = np.sum(arr, axis=1)-tail*1000\n",
    "    filtered = np.maximum(intpWF, thres)\n",
    "    numFiltered = np.sum(filtered==thres)\n",
    "    intWFtest = np.append(intWFtest, np.sum(filtered)-numFiltered*thres)\n",
    "    maxWF = np.argmax(arr, axis=1).reshape(-1,1) + 1\n",
    "    filtdR = filtered/maxWF*500*(1-(filtered==thres))\n",
    "    intWFdRtest = np.append(intWFdRtest, np.sum(filtdR))\n",
    "\n",
    "Xtest = np.hstack((numPEWtest.reshape(-1, 1), intWFtest.reshape(-1, 1), intWFdRtest.reshape(-1, 1)))\n",
    "# saveData(Xtest, np.array([0]), savetestpath)\n",
    "print('testset shape: ', Xtest.shape)"
   ]
  },
  {
   "cell_type": "code",
   "execution_count": 6,
   "metadata": {},
   "outputs": [],
   "source": [
    "gbm1 = lgb.Booster(model_file='./FINALGBM1.txt')\n",
    "gbm2 = lgb.Booster(model_file='./FINALGBM2.txt')\n",
    "gbm = lgb.Booster(model_file='./FINALGBM.txt')"
   ]
  },
  {
   "cell_type": "code",
   "execution_count": 7,
   "metadata": {},
   "outputs": [],
   "source": [
    "Xt = Xtest\n",
    "Xt1 = np.hstack((Xt, gbm1.predict(Xt, num_iteration=gbm1.best_iteration).reshape(-1,1)))\n",
    "Xt2 = np.hstack((Xt1, gbm2.predict(Xt1, num_iteration=gbm2.best_iteration).reshape(-1,1)))\n",
    "ans_gbm = gbm.predict(Xt2, num_iteration=gbm.best_iteration)\n",
    "expname = 'FINAL'\n",
    "saveans(ans_gbm, './ans/'+expname+'.h5')"
   ]
  },
  {
   "cell_type": "code",
   "execution_count": null,
   "metadata": {},
   "outputs": [],
   "source": []
  }
 ],
 "metadata": {
  "interpreter": {
   "hash": "ec5fd5d2daa8cf271abe6a38e15ead5ddfebe80b58f16c5ecb86ccca2e10ec6b"
  },
  "kernelspec": {
   "display_name": "Python 3",
   "language": "python",
   "name": "python3"
  },
  "language_info": {
   "codemirror_mode": {
    "name": "ipython",
    "version": 3
   },
   "file_extension": ".py",
   "mimetype": "text/x-python",
   "name": "python",
   "nbconvert_exporter": "python",
   "pygments_lexer": "ipython3",
   "version": "3.8.5"
  }
 },
 "nbformat": 4,
 "nbformat_minor": 2
}
