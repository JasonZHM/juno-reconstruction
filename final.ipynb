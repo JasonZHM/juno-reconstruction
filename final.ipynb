{
 "cells": [
  {
   "cell_type": "markdown",
   "metadata": {},
   "source": [
    "# final.ipynb: 通过已经训练的决策树，最终解题\n",
    "前提：跑完`train.ipynb`或者`model.ipynb`，最好跑完`waveform.py`。如果没有跑`waveform.py`，请将下面标注出来的代码块取消注释。"
   ]
  },
  {
   "cell_type": "code",
   "execution_count": 3,
   "metadata": {},
   "outputs": [],
   "source": [
    "import multiprocessing\n",
    "import warnings\n",
    "import numpy as np\n",
    "import h5py\n",
    "from utils import loadData, getNum, getPePerWF, saveans, lossfunc_eval, lossfunc_train\n",
    "import lightgbm as lgb\n",
    "from tqdm import tqdm"
   ]
  },
  {
   "cell_type": "markdown",
   "metadata": {},
   "source": [
    "读取测试集"
   ]
  },
  {
   "cell_type": "code",
   "execution_count": 4,
   "metadata": {},
   "outputs": [
    {
     "name": "stderr",
     "output_type": "stream",
     "text": [
      "\r",
      "  0%|          | 0/16 [00:00<?, ?it/s]"
     ]
    },
    {
     "name": "stdout",
     "output_type": "stream",
     "text": [
      "正在读取data\n"
     ]
    },
    {
     "name": "stderr",
     "output_type": "stream",
     "text": [
      "100%|██████████| 16/16 [01:15<00:00,  4.70s/it]\n"
     ]
    }
   ],
   "source": [
    "testpath = \"data/final.h5\"\n",
    "testWF = loadData(testpath, 'test')"
   ]
  },
  {
   "cell_type": "markdown",
   "metadata": {},
   "source": [
    "如果已经跑完了`waveform.py`，跑上面的代码块；如果没有，跑下面的代码块。\n",
    "\n",
    "总之，得到第一个决策树需要的那些参数，并为第二个决策树做准备。"
   ]
  },
  {
   "cell_type": "code",
   "execution_count": 5,
   "metadata": {},
   "outputs": [],
   "source": [
    "# 如果跑了waveform.py，请运行下面的代码块，否则不要运行\n",
    "with h5py.File('./train/final_wf.h5', 'r') as ipt:\n",
    "    intTestWF = ipt['Waveform']['intWF'][...]\n",
    "    pointsPerTestWF = ipt['Waveform']['pointsPerWF'][...]\n",
    "    pePerTestWFCalc = ipt['Waveform']['pePerWFCalc'][...]\n",
    "    meanPeTimePerTestWF = ipt['Waveform']['meanPeTimePerWF'][...]\n",
    "    wfIndices = ipt['WfIndices'][...]"
   ]
  },
  {
   "cell_type": "code",
   "execution_count": null,
   "metadata": {},
   "outputs": [],
   "source": [
    "# 如果没有跑waveform.py，请将这个代码块取消注释，运行这个代码块\n",
    "'''\n",
    "numPEW, wfIndices = getNum(testWF)\n",
    "\n",
    "print(\"正在去除波形噪音...\")\n",
    "denoisedTestWF = np.empty((testWF.shape[0], 1000), dtype='<i2')\n",
    "step = 3000000\n",
    "for i in tqdm(range(testWF.shape[0] // step + 1)):\n",
    "    denoisedTestWF[step*i:step*(i+1)] = np.maximum(918-testWF['Waveform'][step*i:step*(i+1), :], 0)\n",
    "print(\"正在做波形积分...\")\n",
    "intTestWF = np.sum(denoisedTestWF, axis=1)\n",
    "print(\"正在计算超出阈值的点数...\")\n",
    "pointsPerTestWF = np.sum(denoisedTestWF > 0, axis=1)\n",
    "\n",
    "chunkNum = 100\n",
    "splitedDenoisedTestWF = np.array_split(denoisedTestWF, chunkNum)\n",
    "with warnings.catch_warnings():\n",
    "    warnings.simplefilter(\"ignore\")\n",
    "    with multiprocessing.Pool(8) as pool:\n",
    "        res = np.concatenate(\n",
    "            list(\n",
    "                tqdm(\n",
    "                    pool.imap(\n",
    "                        getPePerWF,\n",
    "                        splitedDenoisedTestWF\n",
    "                    ),\n",
    "                    total=chunkNum\n",
    "                )\n",
    "            ),\n",
    "            axis=1\n",
    "        )\n",
    "    pePerTestWFCalc, meanPeTimePerTestWF = res\n",
    "'''"
   ]
  },
  {
   "cell_type": "code",
   "execution_count": 6,
   "metadata": {},
   "outputs": [],
   "source": [
    "pePerWF = pePerTestWFCalc"
   ]
  },
  {
   "cell_type": "markdown",
   "metadata": {},
   "source": [
    "运算得到决策树所需要的五个feature"
   ]
  },
  {
   "cell_type": "code",
   "execution_count": 7,
   "metadata": {},
   "outputs": [
    {
     "name": "stderr",
     "output_type": "stream",
     "text": [
      "100%|██████████| 4000/4000 [00:00<00:00, 8479.19it/s]\n",
      "100%|██████████| 4000/4000 [00:01<00:00, 3395.66it/s]\n"
     ]
    }
   ],
   "source": [
    "print(\"正在计算PE总数，平均值与标准差...\")\n",
    "\n",
    "splitPePerTestWFFinal = np.split(pePerWF, wfIndices[1:-1])\n",
    "peTotal = np.empty(4000)\n",
    "peMean = np.empty(4000)\n",
    "peStd = np.empty(4000)\n",
    "for index, pePerTestWFFinalChunk in enumerate(tqdm(splitPePerTestWFFinal)):\n",
    "    peTotal[index] = np.sum(pePerTestWFFinalChunk)\n",
    "    peMean[index] = np.mean(pePerTestWFFinalChunk)\n",
    "    peStd[index] = np.std(pePerTestWFFinalChunk)\n",
    "\n",
    "print(\"正在计算PETime平均值与标准差...\")\n",
    "splitMeanPeTimePerTestWF = np.split(meanPeTimePerTestWF, wfIndices[1:-1])\n",
    "peTimeMean = np.empty(4000)\n",
    "peTimeStd = np.empty(4000)\n",
    "for index, meanPeTimePerTestWFFinalChunk in enumerate(tqdm(splitMeanPeTimePerTestWF)):\n",
    "    peTimeMean[index] = np.nanmean(meanPeTimePerTestWFFinalChunk)\n",
    "    peTimeStd[index] = np.nanstd(meanPeTimePerTestWFFinalChunk)"
   ]
  },
  {
   "cell_type": "markdown",
   "metadata": {},
   "source": [
    "喂进决策树，得到最终答案动量p"
   ]
  },
  {
   "cell_type": "code",
   "execution_count": 8,
   "metadata": {},
   "outputs": [],
   "source": [
    "gbmForP = lgb.Booster(model_file='./model/modelPCalc.txt')\n",
    "answerP = gbmForP.predict(\n",
    "    np.stack(\n",
    "        (peTotal, peMean, peStd, peTimeMean, peTimeStd),\n",
    "        axis=1\n",
    "    )\n",
    ")"
   ]
  },
  {
   "cell_type": "markdown",
   "metadata": {},
   "source": [
    "将答案存为标准格式，完成！"
   ]
  },
  {
   "cell_type": "code",
   "execution_count": 9,
   "metadata": {},
   "outputs": [],
   "source": [
    "saveans(answerP, './ans/ans23.h5')"
   ]
  },
  {
   "cell_type": "code",
   "execution_count": null,
   "metadata": {},
   "outputs": [],
   "source": []
  }
 ],
 "metadata": {
  "interpreter": {
   "hash": "ec5fd5d2daa8cf271abe6a38e15ead5ddfebe80b58f16c5ecb86ccca2e10ec6b"
  },
  "kernelspec": {
   "display_name": "Python 3",
   "language": "python",
   "name": "python3"
  },
  "language_info": {
   "codemirror_mode": {
    "name": "ipython",
    "version": 3
   },
   "file_extension": ".py",
   "mimetype": "text/x-python",
   "name": "python",
   "nbconvert_exporter": "python",
   "pygments_lexer": "ipython3",
   "version": "3.8.5"
  }
 },
 "nbformat": 4,
 "nbformat_minor": 2
}
