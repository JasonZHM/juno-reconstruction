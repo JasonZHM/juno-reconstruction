{
 "cells": [
  {
   "cell_type": "markdown",
   "metadata": {},
   "source": [
    "# final.ipynb: 通过已经训练的决策树，最终解题\n",
    "前提：跑完`train.ipynb`，最好跑完`waveform.py`。如果跑的是`model.ipynb`，请将model的文件名相应加一个play。"
   ]
  },
  {
   "cell_type": "code",
   "execution_count": 1,
   "metadata": {},
   "outputs": [],
   "source": [
    "import warnings\n",
    "import numpy as np\n",
    "import matplotlib.pyplot as plt\n",
    "%matplotlib inline\n",
    "import torch\n",
    "import h5py\n",
    "from sklearn import preprocessing\n",
    "from sklearn import ensemble\n",
    "from utils import loadData, saveData, getNum, getPePerWF, saveans, lossfunc_eval, lossfunc_train\n",
    "import lightgbm as lgb\n",
    "from tqdm import tqdm"
   ]
  },
  {
   "cell_type": "markdown",
   "metadata": {},
   "source": [
    "读取测试集"
   ]
  },
  {
   "cell_type": "code",
   "execution_count": 2,
   "metadata": {},
   "outputs": [
    {
     "name": "stdout",
     "output_type": "stream",
     "text": [
      "Structure of data:\n",
      "<HDF5 dataset \"Waveform\": shape (12178193,), type \"|V2008\"> Waveform /Waveform\n"
     ]
    }
   ],
   "source": [
    "testpath = \"data/final.h5\"\n",
    "testWF = loadData(testpath, 'test')"
   ]
  },
  {
   "cell_type": "markdown",
   "metadata": {},
   "source": [
    "如果已经跑完了`waveform.py`，跑上面的代码块；如果没有，跑下面的代码块。\n",
    "\n",
    "总之，得到第一个决策树需要的那些参数，并为第二个决策树做准备。"
   ]
  },
  {
   "cell_type": "code",
   "execution_count": 3,
   "metadata": {},
   "outputs": [],
   "source": [
    "# numPEW, wfIndices = getNum(testWF)\n",
    "with h5py.File('./train/final_wf.h5', 'r') as ipt:\n",
    "    intTestWF = ipt['Waveform']['intWF'][...]\n",
    "    pointsPerTestWF = ipt['Waveform']['pointsPerWF'][...]\n",
    "    pePerTestWFCalc = ipt['Waveform']['pePerWFCalc'][...]\n",
    "    meanPeTimePerTestWF = ipt['Waveform']['meanPeTimePerWF'][...]\n",
    "    wfIndices = ipt['WfIndices'][...]"
   ]
  },
  {
   "cell_type": "code",
   "execution_count": null,
   "metadata": {},
   "outputs": [],
   "source": [
    "numPEW, wfIndices = getNum(testWF)\n",
    "splitWFChannels = np.split(testWF['ChannelID'], wfIndices[1:-1])\n",
    "denoisedTestWF = np.where(testWF['Waveform'] < 918, 918-testWF['Waveform'], 0)\n",
    "intTestWF = np.sum(denoisedTestWF, axis=1)\n",
    "pointsPerTestWF = np.sum(denoisedTestWF > 0, axis=1)\n",
    "\n",
    "with warnings.catch_warnings():\n",
    "    warnings.simplefilter(\"ignore\")\n",
    "    with multiprocessing.Pool(8) as p: # 开了八个进程，视cpu情况，可以将8改为适合当前cpu的值\n",
    "        res = np.array(\n",
    "            list(tqdm(\n",
    "                p.imap(\n",
    "                    getPePerWF,\n",
    "                    denoisedTestWF\n",
    "                ), total=denoisedTestWF.shape[0]\n",
    "            ))\n",
    "        )\n",
    "\n",
    "pePerTestWFCalc = res[:, 0]\n",
    "meanPeTimePerTestWF = res[:, 1]"
   ]
  },
  {
   "cell_type": "markdown",
   "metadata": {},
   "source": [
    "使用第一个决策树，预测每个波形的PE数`pePerWF`，按照上面一个代码块\n",
    "\n",
    "或者使用线性拟合，按照下面一个代码块"
   ]
  },
  {
   "cell_type": "code",
   "execution_count": 4,
   "metadata": {},
   "outputs": [],
   "source": [
    "gbmForPePerWF = lgb.Booster(model_file='./modelPePerWF.txt')\n",
    "pePerWF = gbmForPePerWF.predict(\n",
    "    np.stack(\n",
    "        (intTestWF, pointsPerTestWF, pePerTestWFCalc),\n",
    "        axis=1\n",
    "    )\n",
    ")"
   ]
  },
  {
   "cell_type": "code",
   "execution_count": 10,
   "metadata": {},
   "outputs": [],
   "source": [
    "pePerWF = np.round(intTestWF * 0.00651683 + 0.5644330147776138).astype(int)"
   ]
  },
  {
   "cell_type": "code",
   "execution_count": null,
   "metadata": {},
   "outputs": [],
   "source": [
    "pePerWF = pePerTestWFCalc"
   ]
  },
  {
   "cell_type": "markdown",
   "metadata": {},
   "source": [
    "运算得到第二个决策树所需要的五个feature"
   ]
  },
  {
   "cell_type": "code",
   "execution_count": null,
   "metadata": {},
   "outputs": [],
   "source": [
    "splitPePerTestWFFinal = np.split(pePerWF, wfIndices[1:-1])\n",
    "\n",
    "peTotal = np.empty(4000)\n",
    "peMean = np.empty(4000)\n",
    "peStd = np.empty(4000)\n",
    "for index, pePerTestWFFinalChunk in enumerate(tqdm(splitPePerTestWFFinal)):\n",
    "    peTotal[index] = np.sum(pePerTestWFFinalChunk)\n",
    "    peMean[index] = np.mean(pePerTestWFFinalChunk)\n",
    "    peStd[index] = np.std(pePerTestWFFinalChunk)\n",
    "\n",
    "splitMeanPeTimePerTestWF = np.split(meanPeTimePerTestWF, wfIndices[1:-1])\n",
    "peTimeMean = np.empty(4000)\n",
    "peTimeStd = np.empty(4000)\n",
    "for index, meanPeTimePerTestWFFinalChunk in enumerate(tqdm(splitMeanPeTimePerTestWF)):\n",
    "    peTimeMean[index] = np.nanmean(meanPeTimePerTestWFFinalChunk)\n",
    "    peTimeStd[index] = np.nanstd(meanPeTimePerTestWFFinalChunk)\n"
   ]
  },
  {
   "cell_type": "markdown",
   "metadata": {},
   "source": [
    "喂进第二个决策树，得到最终答案动量p"
   ]
  },
  {
   "cell_type": "code",
   "execution_count": null,
   "metadata": {},
   "outputs": [],
   "source": [
    "gbmForP = lgb.Booster(model_file='./modelPPlay.txt')\n",
    "answerP = gbmForP.predict(\n",
    "    np.stack(\n",
    "        (peTotal, peMean, peStd, peTimeMean, peTimeStd),\n",
    "        axis=1\n",
    "    )\n",
    ")"
   ]
  },
  {
   "cell_type": "markdown",
   "metadata": {},
   "source": [
    "将答案存为标准格式，完成！"
   ]
  },
  {
   "cell_type": "code",
   "execution_count": null,
   "metadata": {},
   "outputs": [],
   "source": [
    "saveans(answerP, './ans/ansPlay2.h5')"
   ]
  },
  {
   "cell_type": "code",
   "execution_count": null,
   "metadata": {},
   "outputs": [],
   "source": []
  }
 ],
 "metadata": {
  "interpreter": {
   "hash": "ec5fd5d2daa8cf271abe6a38e15ead5ddfebe80b58f16c5ecb86ccca2e10ec6b"
  },
  "kernelspec": {
   "display_name": "Python 3",
   "language": "python",
   "name": "python3"
  },
  "language_info": {
   "codemirror_mode": {
    "name": "ipython",
    "version": 3
   },
   "file_extension": ".py",
   "mimetype": "text/x-python",
   "name": "python",
   "nbconvert_exporter": "python",
   "pygments_lexer": "ipython3",
   "version": "3.8.5"
  }
 },
 "nbformat": 4,
 "nbformat_minor": 2
}
